{
 "cells": [
  {
   "cell_type": "code",
   "execution_count": 5,
   "metadata": {},
   "outputs": [],
   "source": [
    "from trdg.generators import GeneratorFromStrings\n",
    "from glob import glob\n",
    "\n",
    "fonts_fp = \"/mnt/arc/levlevi/nba-positions-videos-dataset/florence_ft/data/fine-tunning-set/fonts\"\n",
    "all_tr_strings_fp = \"/mnt/arc/levlevi/nba-positions-videos-dataset/statvu_alignment/two-staged/assets/nba_game_times.txt\"\n",
    "\n",
    "with open(all_tr_strings_fp, 'r') as f:\n",
    "    all_tr_strings = [s.replace(\"\\n\", \"\") for s in f.readlines()]"
   ]
  },
  {
   "cell_type": "code",
   "execution_count": null,
   "metadata": {},
   "outputs": [],
   "source": [
    "import random\n",
    "NUM_SYNTH_IMAGES = 100\n",
    "\n",
    "# want a vareity of fonts, backgrounds, canvas sizes, and text colors\n",
    "# missings some potential strings (e.g. 8:12)\n",
    "\n",
    "## FONT COLORS ##\n",
    "# assume text can only be black (#000000) or white (#FFFFFF)\n",
    "\n",
    "## BACKGROUNDS ##\n",
    "# with white text – dark colors\n",
    "# with black text – light colors\n",
    "\n",
    "## CANVAS SIZE ##\n",
    "# width: 50-300\n",
    "# height: 25-150\n",
    "\n",
    "for image_index in range(NUM_SYNTH_IMAGES):\n",
    "    \n",
    "    # randomize fonts\n",
    "    random.shuffle(all_tr_strings)\n",
    "    \n",
    "    generator = GeneratorFromStrings(\n",
    "        strings=all_tr_strings,\n",
    "        count=1,\n",
    "        fonts=fonts_fp,\n",
    "        language=\"en\",\n",
    "        size=0, # TODO: randomize\n",
    "        blur=None,\n",
    "        random_blur=False,\n",
    "        random_skew=False,\n",
    "        background_type=None, # TODO: read docs,\n",
    "        text_color=None,\n",
    "        space_width=None,\n",
    "        width=None,\n",
    "        margins=(None, None, None, None),\n",
    "        fit = True,\n",
    "        stroke\n",
    "    )\n",
    "    \n",
    "    for img, lbl in generator:\n",
    "        pass\n",
    "    # Do something with the pillow images here.\n"
   ]
  }
 ],
 "metadata": {
  "kernelspec": {
   "display_name": "hplr",
   "language": "python",
   "name": "python3"
  },
  "language_info": {
   "codemirror_mode": {
    "name": "ipython",
    "version": 3
   },
   "file_extension": ".py",
   "mimetype": "text/x-python",
   "name": "python",
   "nbconvert_exporter": "python",
   "pygments_lexer": "ipython3",
   "version": "3.11.9"
  }
 },
 "nbformat": 4,
 "nbformat_minor": 2
}
