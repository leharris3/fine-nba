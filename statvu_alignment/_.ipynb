{
 "cells": [
  {
   "cell_type": "code",
   "execution_count": 16,
   "metadata": {},
   "outputs": [
    {
     "data": {
      "text/plain": [
       "{'170631_01-18-2016_2977_Charlotte Hornets_3281_Utah Jazz_period3',\n",
       " '18018_11-18-2015_3223_Brooklyn Nets_79_Atlanta Hawks_period1'}"
      ]
     },
     "execution_count": 16,
     "metadata": {},
     "output_type": "execute_result"
    }
   ],
   "source": [
    "import os\n",
    "from glob import glob\n",
    "\n",
    "# all_vids_dir = \"/mnt/arc/levlevi/nba-positions-videos-dataset/nba-plus-statvu-dataset/game-replays\"\n",
    "# output_dir = \"/mnt/arc/levlevi/nba-positions-videos-dataset/statvu_alignment/data/results\"\n",
    "# temp_frames_dir = \"/mnt/arc/levlevi/nba-positions-videos-dataset/statvu_alignment/data/temp\"\n",
    "\n",
    "# for now we'll assume we just use unaltered basenames in temp and results dir\n",
    "def get_remaining_file_paths(all_vids_dir, output_dir, temp_frames_dir):\n",
    "    # get all processed / in-progress videos\n",
    "    results_basenames = set(list(os.path.basename(fp).replace('.json', '') for fp in glob(output_dir + '/*.json')))\n",
    "    tmp_dir_basenames = set(list(os.path.basename(fp) for fp in glob(temp_frames_dir + '/*')))\n",
    "    processed_files = results_basenames | tmp_dir_basenames\n",
    "    remaining_file_paths = []\n",
    "    for fp in glob(all_vids_dir + '/*.mp4'):\n",
    "        basename = os.path.basename(fp).replace('.mp4', '')\n",
    "        if basename not in processed_files:\n",
    "            remaining_file_paths.append(fp)\n",
    "    return remaining_file_paths\n",
    "\n",
    "# get all basenames from replays dir\n",
    "all_basenames = set(list(os.path.basename(fp).replace('.mp4', '') for fp in glob(all_vids_dir + '/*.mp4')))\n",
    "results_basenames = set(list(os.path.basename(fp).replace('.json', '') for fp in glob(output_dir + '/*.json')))\n",
    "tmp_dir_basenames = set(list(os.path.basename(fp) for fp in glob(temp_frames_dir + '/*')))\n",
    "# remove all processed / in-progress videos\n",
    "processed_files = results_basenames | tmp_dir_basenames\n",
    "processed_files"
   ]
  },
  {
   "cell_type": "code",
   "execution_count": 17,
   "metadata": {},
   "outputs": [
    {
     "data": {
      "text/plain": [
       "(2648, 2646)"
      ]
     },
     "execution_count": 17,
     "metadata": {},
     "output_type": "execute_result"
    }
   ],
   "source": [
    "\n",
    "len(glob(all_vids_dir + '/*.mp4')), len(remaining_file_paths)"
   ]
  }
 ],
 "metadata": {
  "kernelspec": {
   "display_name": "hplr",
   "language": "python",
   "name": "python3"
  },
  "language_info": {
   "codemirror_mode": {
    "name": "ipython",
    "version": 3
   },
   "file_extension": ".py",
   "mimetype": "text/x-python",
   "name": "python",
   "nbconvert_exporter": "python",
   "pygments_lexer": "ipython3",
   "version": "3.11.9"
  }
 },
 "nbformat": 4,
 "nbformat_minor": 2
}
