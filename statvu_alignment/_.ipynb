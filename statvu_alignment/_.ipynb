{
 "cells": [
  {
   "cell_type": "code",
   "execution_count": 2,
   "metadata": {},
   "outputs": [
    {
     "name": "stdout",
     "output_type": "stream",
     "text": [
      "120.0 -> 2:00\n",
      "70.5 -> 1:10\n",
      "65.0 -> 1:05\n",
      "59.9 -> 59.9\n",
      "10.1 -> 10.1\n",
      "9.5 -> 9.5\n",
      "5.0 -> 5.0\n",
      "0.7 -> 0.7\n",
      "0.0 -> 0.0\n"
     ]
    }
   ],
   "source": [
    "def format_nba_clock_time(seconds: float) -> str:\n",
    "    \"\"\"\n",
    "    Convert a float number of seconds to a string formatted as an NBA clock time.\n",
    "    \n",
    "    Args:\n",
    "    seconds (float): Time remaining in seconds.\n",
    "    \n",
    "    Returns:\n",
    "    str: Formatted time string (MM:SS, M:SS, SS.DS, or S.DS)\n",
    "    \"\"\"\n",
    "    if seconds < 0:\n",
    "        raise ValueError(\"Time cannot be negative\")\n",
    "    minutes, seconds = divmod(seconds, 60)\n",
    "    if minutes >= 1:\n",
    "        # Format as MM:SS or M:SS\n",
    "        return f\"{int(minutes):01d}:{int(seconds):02d}\"\n",
    "    else:\n",
    "        # Format as SS.DS or S.DS\n",
    "        return f\"{seconds:.1f}\"\n",
    "\n",
    "# Test cases\n",
    "test_cases = [\n",
    "    120.0,  # 2:00\n",
    "    70.5,   # 1:10\n",
    "    65.0,   # 1:05\n",
    "    59.9,   # 59:9\n",
    "    10.1,   # 10:1\n",
    "    9.5,    # 9:5\n",
    "    5.0,    # 5:0\n",
    "    0.7,    # 0:7\n",
    "    0.0     # 0:0\n",
    "]\n",
    "\n",
    "for time in test_cases:\n",
    "    print(f\"{time} -> {format_nba_clock_time(time)}\")"
   ]
  },
  {
   "cell_type": "code",
   "execution_count": null,
   "metadata": {},
   "outputs": [],
   "source": []
  }
 ],
 "metadata": {
  "kernelspec": {
   "display_name": "hplr",
   "language": "python",
   "name": "python3"
  },
  "language_info": {
   "codemirror_mode": {
    "name": "ipython",
    "version": 3
   },
   "file_extension": ".py",
   "mimetype": "text/x-python",
   "name": "python",
   "nbconvert_exporter": "python",
   "pygments_lexer": "ipython3",
   "version": "3.11.9"
  }
 },
 "nbformat": 4,
 "nbformat_minor": 2
}
