{
 "cells": [
  {
   "cell_type": "code",
   "execution_count": 1,
   "metadata": {},
   "outputs": [],
   "source": [
    "from entities.clip_dataset import FilteredClipDataset\n",
    "from entities.clip_annotations import ClipAnnotation, ClipAnnotationWrapper"
   ]
  },
  {
   "cell_type": "code",
   "execution_count": 2,
   "metadata": {},
   "outputs": [],
   "source": [
    "dataset_fp = \"/playpen-storage/levlevi/opr/fine-nba/nba-plus-statvu-dataset/filtered-clip-annotations-40-bbx-ratios\"\n",
    "filtered_clip_dataset = FilteredClipDataset(dataset_fp)"
   ]
  },
  {
   "cell_type": "code",
   "execution_count": 3,
   "metadata": {},
   "outputs": [
    {
     "name": "stderr",
     "output_type": "stream",
     "text": [
      "WARNING:root:3D-pose file path: /playpen-storage/levlevi/opr/fine-nba/nba-plus-statvu-dataset/filtered-clip-3d-poses-hmr-2.0/18066/period4/18066_period4_Rebound_76882525_annotation_0_bin.lz4, does not exist. Setting this attribute to None.\n"
     ]
    }
   ],
   "source": [
    "fps = filtered_clip_dataset.filtered_clip_annotations_file_paths\n",
    "ex_fp = fps[0]\n",
    "ann = ClipAnnotationWrapper(ex_fp, verbose=False)"
   ]
  },
  {
   "cell_type": "code",
   "execution_count": null,
   "metadata": {},
   "outputs": [],
   "source": []
  }
 ],
 "metadata": {
  "kernelspec": {
   "display_name": "align",
   "language": "python",
   "name": "python3"
  },
  "language_info": {
   "codemirror_mode": {
    "name": "ipython",
    "version": 3
   },
   "file_extension": ".py",
   "mimetype": "text/x-python",
   "name": "python",
   "nbconvert_exporter": "python",
   "pygments_lexer": "ipython3",
   "version": "3.12.2"
  }
 },
 "nbformat": 4,
 "nbformat_minor": 2
}
