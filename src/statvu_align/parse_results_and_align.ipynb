{
 "cells": [
  {
   "cell_type": "code",
   "execution_count": 1,
   "metadata": {},
   "outputs": [],
   "source": [
    "import os\n",
    "import pickle\n",
    "from glob import glob\n",
    "\n",
    "from entities.clip_annotations import ClipAnnotation\n",
    "from entities.clip_dataset import FilteredClipDataset\n",
    "\n",
    "results_dir = \"/playpen-storage/levlevi/opr/fine-nba/src/statvu_align/__nba-plus-statvu-dataset__/statvu-aligned\"\n",
    "file_paths = glob(os.path.join(results_dir, \"*\", \"*.pkl\"))\n",
    "ex_fp = file_paths[3]"
   ]
  },
  {
   "cell_type": "code",
   "execution_count": 2,
   "metadata": {},
   "outputs": [
    {
     "data": {
      "image/png": "[encoded data removed]",
      "text/plain": [
       "<Figure size 640x480 with 1 Axes>"
      ]
     },
     "metadata": {},
     "output_type": "display_data"
    }
   ],
   "source": [
    "import numpy as np\n",
    "import re\n",
    "import matplotlib.pyplot as plt\n",
    "\n",
    "from typing import Optional, List\n",
    "# goal: map each frame idx to a float val representing the time remaining\n",
    "\n",
    "\n",
    "def re_time_remaining(text: str):\n",
    "    \"\"\"\n",
    "    Matches any string showing a valid time remaining of 20 minutes or less\n",
    "    assumes brodcasts use MM:SS for times > 1 minute, and SS.S for times < 1 minute\n",
    "    \"\"\"\n",
    "    \n",
    "    if text is None:\n",
    "        return None\n",
    "    time_remaining_regex = r\"(20:00)|(0[0-9]?:[0-9][0-9](\\.[0-9])?)|([1-9]:[0-5][0-9])|(1[0-9]:[0-5][0-9](\\.[0-9])?)|([0-9]\\.[0-9])|([1-5][0-9]\\.[0-9])\"\n",
    "    result = text.replace(\" \", \"\")\n",
    "    match = re.match(time_remaining_regex, result)\n",
    "    if match is not None and match[0] == result:\n",
    "        return result\n",
    "    return None\n",
    "\n",
    "\n",
    "def convert_time_to_float(time_remaining):\n",
    "    \"\"\"\n",
    "    Coverts valid time-remaining str\n",
    "    to float value representation.\n",
    "    Return None if time-remaining is invalid.\n",
    "\n",
    "    Ex: '1:30' -> 90.\n",
    "    \"\"\"\n",
    "\n",
    "    if time_remaining is None:\n",
    "        return None\n",
    "    minutes, seconds = 0.0, 0.0\n",
    "    if ':' in time_remaining:\n",
    "        time_arr = time_remaining.split(':')\n",
    "        minutes = float(time_arr[0])\n",
    "        seconds = float(time_arr[1])\n",
    "    elif '.' in time_remaining:\n",
    "        seconds = float(time_remaining)\n",
    "    else:\n",
    "        return None\n",
    "    return (60.0 * minutes) + seconds\n",
    "\n",
    "\n",
    "def post_process_time_remaining(arr: List[float], fps: int=30) -> List[float]:\n",
    "    \n",
    "    # 0. in-fill missing tr values\n",
    "    # 1. find points where time-remaining decreases/changes\n",
    "    # 2. interpolate between points of decrease    \n",
    "    pass\n",
    "\n",
    "\n",
    "def get_time_remaining_from_result(result) -> Optional[str]:\n",
    "    \"\"\"\n",
    "    Convert an ultralytics results obj to predicted time remaining.\n",
    "    \"\"\"\n",
    "    \n",
    "    names = result.names\n",
    "    boxes = result.boxes.cpu().numpy()\n",
    "    classes = boxes.cls.tolist()\n",
    "    xyxy = boxes.xyxy.tolist()\n",
    "    predicted_str = \"\"\n",
    "    char_dict = {}\n",
    "    for pred_class, box in zip(classes, xyxy):\n",
    "        char = names[pred_class]\n",
    "        x1 = box[0]\n",
    "        char_dict[x1] = char\n",
    "    \n",
    "    # print(char_dict)\n",
    "    for key in sorted(char_dict.keys()):\n",
    "        predicted_str += char_dict[key]\n",
    "    return re_time_remaining(predicted_str)    \n",
    "\n",
    "\n",
    "def interpolate_time_remaining(arr: List[float], fps:int = 30) -> List[float]:\n",
    "    \"\"\"\n",
    "    Perform linear interpolatation of a \"staircase\" monotonically decreasing function.\n",
    "\n",
    "    TL;DR: smoothly fill in the values between the whole number time-remaining vals scrapped off the game clock.\n",
    "    \"\"\"\n",
    "\n",
    "    arr = arr.copy()\n",
    "    grad_y = np.gradient(arr)\n",
    "    inflection_points_y = np.argwhere(list(grad_y <= -.3))[::2]\n",
    "    interpolated_arr = np.array(arr)\n",
    "    interpolated_arr = np.interp(\n",
    "        np.arange(len(arr)), \n",
    "        inflection_points_y[:, 0], \n",
    "        interpolated_arr[inflection_points_y][:, 0] - 1\n",
    "        )\n",
    "    return interpolated_arr\n",
    "\n",
    "\n",
    "def convert_results_to_timeseries(results_fp: str) -> List[float]:\n",
    "\n",
    "    assert results_fp.endswith(\".pkl\")\n",
    "    with open(results_fp, 'rb') as f:\n",
    "        data = pickle.load(f)\n",
    "    arr = []\n",
    "    for frame_idx, result in enumerate(data):\n",
    "        predicted_tr: str = convert_time_to_float(get_time_remaining_from_result(result))\n",
    "        arr.append(predicted_tr)\n",
    "    \n",
    "    # TODO: jank! handle no detected time remaining vals\n",
    "    try:\n",
    "        smoothed_results = interpolate_time_remaining(arr).tolist()\n",
    "    except:\n",
    "        return []\n",
    "    return smoothed_results\n",
    "\n",
    "\n",
    "plt.plot(convert_results_to_timeseries(ex_fp));"
   ]
  },
  {
   "cell_type": "code",
   "execution_count": 3,
   "metadata": {},
   "outputs": [
    {
     "name": "stderr",
     "output_type": "stream",
     "text": [
      "WARNING:root:pred game_id: 17600\n",
      "WARNING:root:3D-pose file path: /playpen-storage/levlevi/opr/fine-nba/src/statvu_align/__nba-plus-statvu-dataset__/filtered-clip-3d-poses-hmr-2.0/17600/period1/17600_period1_1-_77131343_annotation_0_bin.lz4, does not exist. Setting this attribute to None.\n"
     ]
    }
   ],
   "source": [
    "fp = \"/playpen-storage/levlevi/opr/fine-nba/src/statvu_align/__nba-plus-statvu-dataset__/filtered-clip-annotations-with-video-info/17600/period1/17600_period1_1-_77131343_annotation_0.pkl\"\n",
    "ann = ClipAnnotation(fp)"
   ]
  },
  {
   "cell_type": "code",
   "execution_count": 4,
   "metadata": {},
   "outputs": [
    {
     "name": "stdout",
     "output_type": "stream",
     "text": [
      "/mnt/mir/levlevi/nba-plus-statvu-dataset/statvu-aligned/17600/17600_period1_1-_77131343_0.pkl\n"
     ]
    }
   ],
   "source": [
    "print(ann.statvu_aligned_fp)"
   ]
  },
  {
   "cell_type": "code",
   "execution_count": 7,
   "metadata": {},
   "outputs": [],
   "source": [
    "import ujson as json\n",
    "\n",
    "with open(ann.statvu_game_log_fp, 'r') as f:\n",
    "    data = json.load(f)\n",
    "    \n",
    "data"
   ]
  },
  {
   "cell_type": "code",
   "execution_count": null,
   "metadata": {},
   "outputs": [],
   "source": []
  }
 ],
 "metadata": {
  "kernelspec": {
   "display_name": "align",
   "language": "python",
   "name": "python3"
  },
  "language_info": {
   "codemirror_mode": {
    "name": "ipython",
    "version": 3
   },
   "file_extension": ".py",
   "mimetype": "text/x-python",
   "name": "python",
   "nbconvert_exporter": "python",
   "pygments_lexer": "ipython3",
   "version": "3.12.2"
  }
 },
 "nbformat": 4,
 "nbformat_minor": 2
}
