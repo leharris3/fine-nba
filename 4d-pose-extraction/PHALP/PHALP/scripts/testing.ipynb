{
 "cells": [
  {
   "cell_type": "code",
   "execution_count": null,
   "metadata": {},
   "outputs": [],
   "source": [
    "import warnings\n",
    "import json\n",
    "import subprocess\n",
    "\n",
    "from omegaconf import DictConfig\n",
    "from phalp.utils import get_pylogger\n",
    "from PHALP_FAST import PHALP\n",
    "\n",
    "warnings.filterwarnings(\"ignore\")\n",
    "log = get_pylogger(__name__)\n",
    "\n",
    "# load config\n",
    "cfg_fp = \"/mnt/arc/levlevi/nba-positions-videos-dataset/4d-pose-extraction/PHALP/PHALP/scripts/config.json\"\n",
    "with open(cfg_fp, \"r\") as f:\n",
    "    cfg = DictConfig(json.load(f))\n",
    "\n",
    "# load PHALP obj\n",
    "phalp_tracker = PHALP(cfg)"
   ]
  },
  {
   "cell_type": "code",
   "execution_count": 20,
   "metadata": {},
   "outputs": [],
   "source": [
    "import os\n",
    "from glob import glob\n",
    "\n",
    "annotations_dir = \"/mnt/arc/levlevi/nba-positions-videos-dataset/nba-plus-statvu-dataset/filtered-clip-annotations\"\n",
    "all_annotation_file_paths = sorted(glob(annotations_dir + \"/*/*/*.json\"))\n",
    "\n",
    "ex_fp = all_annotation_file_paths[0]\n",
    "ex_vid_fp = ex_fp.replace(\"filtered-clip-annotations\", \"filtered-clips\").replace(\"_annotation\", \"\").replace(\".json\", \".mp4\")\n",
    "assert os.path.exists(ex_vid_fp), f\"{ex_vid_fp} doesn't exist\""
   ]
  },
  {
   "cell_type": "code",
   "execution_count": 21,
   "metadata": {},
   "outputs": [
    {
     "data": {
      "text/plain": [
       "'/mnt/arc/levlevi/nba-positions-videos-dataset/nba-plus-statvu-dataset/filtered-clips/162142/period2/162142_period2_1+_76939328_0.mp4'"
      ]
     },
     "execution_count": 21,
     "metadata": {},
     "output_type": "execute_result"
    }
   ],
   "source": [
    "ex_vid_fp"
   ]
  },
  {
   "cell_type": "code",
   "execution_count": null,
   "metadata": {},
   "outputs": [],
   "source": [
    "from concurrent.futures import ProcessPoolExecutor\n",
    "\n",
    "# launch 8 processes w/ export CUDA_VISIBLE_DEVICES={DEVICE} and a subset of file_paths\n",
    "# "
   ]
  },
  {
   "cell_type": "code",
   "execution_count": 18,
   "metadata": {},
   "outputs": [],
   "source": [
    "import json\n",
    "import numpy as np\n",
    "import os\n",
    "import joblib \n",
    "import pickle\n",
    "import sys\n",
    "\n",
    "from typing import List\n",
    "from glob import glob\n",
    "\n",
    "BASE_PATH = \"\"\n",
    "\n",
    "def save_data(data, output_filename):\n",
    "    \"\"\"Save the processed data to a pickle file using joblib.\"\"\"\n",
    "    joblib.dump(data, output_filename)\n",
    "\n",
    "def process_bbx(bbx, scale_factor=1.075):\n",
    "    track_id = int(bbx['player_id'])\n",
    "    x1, y1, width, height = bbx['x'], bbx['y'], bbx['width'], bbx['height']\n",
    "    scaled_width = width * scale_factor\n",
    "    scaled_height = height * scale_factor\n",
    "    # adjust x1, y1 to maintain the center of the bbox\n",
    "    x1 = x1 - (scaled_width - width) / 2\n",
    "    y1 = y1 - (scaled_height - height) / 2\n",
    "    # create the bbox in the format x1, y1, width, height\n",
    "    bbox_arr = np.array([x1, y1, scaled_width, scaled_height], dtype=np.float32)\n",
    "    return track_id, bbox_arr\n",
    "\n",
    "def convert_annotations_to_pkl(src_fp:str, dst_fp:str):\n",
    "    \"\"\"\n",
    "    Convert an annotation file to pkl bbxs.\n",
    "    \"\"\"\n",
    "\n",
    "    data = {}\n",
    "    with open(src_fp, 'r') as f:\n",
    "        annotations = json.load(f)\n",
    "    for frame in annotations['frames']:\n",
    "        frame_id = int(frame['frame_id'])\n",
    "        bbxs = frame['bbox']\n",
    "        for bbx in bbxs:\n",
    "            track_id, bbox_arr = process_bbx(bbx)\n",
    "            frame_name = os.path.join(BASE_PATH, f'{frame_id:06}.jpg')\n",
    "            if frame_name not in data:\n",
    "                data[frame_name] = {\"gt_bbox\": [], \"extra_data\": {\"gt_class\": [], \"gt_track_id\": []}}\n",
    "            data[frame_name][\"gt_bbox\"].append(bbox_arr.tolist())  # Convert bbox to list for JSON-like output\n",
    "            if track_id not in data[frame_name][\"extra_data\"][\"gt_track_id\"]:\n",
    "                data[frame_name][\"extra_data\"][\"gt_track_id\"].append(track_id)\n",
    "    save_data(data, dst_fp)\n",
    "    \n",
    "dst_fp = \"test.pkl\"\n",
    "convert_annotations_to_pkl(ex_fp, dst_fp)"
   ]
  },
  {
   "cell_type": "code",
   "execution_count": null,
   "metadata": {},
   "outputs": [],
   "source": []
  }
 ],
 "metadata": {
  "kernelspec": {
   "display_name": "phalp",
   "language": "python",
   "name": "python3"
  },
  "language_info": {
   "codemirror_mode": {
    "name": "ipython",
    "version": 3
   },
   "file_extension": ".py",
   "mimetype": "text/x-python",
   "name": "python",
   "nbconvert_exporter": "python",
   "pygments_lexer": "ipython3",
   "version": "3.10.14"
  }
 },
 "nbformat": 4,
 "nbformat_minor": 2
}
