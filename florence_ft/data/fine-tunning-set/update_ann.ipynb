{
 "cells": [
  {
   "cell_type": "code",
   "execution_count": 4,
   "metadata": {},
   "outputs": [],
   "source": [
    "import json\n",
    "import os\n",
    "from glob import glob\n",
    "\n",
    "annotations_exp = {}\n",
    "synth_data_fp = \"/mnt/arc/levlevi/nba-positions-videos-dataset/florence_ft/data/fine-tunning-set/synth_data\"\n",
    "img_file_paths = glob(synth_data_fp + '/*.jpg')\n",
    "\n",
    "for fp in img_file_paths:\n",
    "    label_fp = fp.replace('.jpg', '.txt')\n",
    "    with open(label_fp, 'r') as f:\n",
    "        label_str = f.readlines()[0].replace('\\n', '')\n",
    "    temp_ann = {\n",
    "        \"time_on_clock\": label_str\n",
    "    }\n",
    "    annotations_exp[fp] = temp_ann"
   ]
  },
  {
   "cell_type": "code",
   "execution_count": null,
   "metadata": {},
   "outputs": [],
   "source": [
    "prev_ann_fp = '/mnt/arc/levlevi/nba-positions-videos-dataset/florence_ft/data/fine-tunning-set/annotations.json'\n",
    "with open(prev_ann_fp, 'r') as f:\n",
    "    prev_ann = json.load(f)"
   ]
  }
 ],
 "metadata": {
  "kernelspec": {
   "display_name": "hplr",
   "language": "python",
   "name": "python3"
  },
  "language_info": {
   "codemirror_mode": {
    "name": "ipython",
    "version": 3
   },
   "file_extension": ".py",
   "mimetype": "text/x-python",
   "name": "python",
   "nbconvert_exporter": "python",
   "pygments_lexer": "ipython3",
   "version": "3.11.9"
  }
 },
 "nbformat": 4,
 "nbformat_minor": 2
}
