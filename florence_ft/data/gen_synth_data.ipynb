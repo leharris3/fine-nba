{
 "cells": [
  {
   "cell_type": "code",
   "execution_count": 7,
   "metadata": {},
   "outputs": [
    {
     "ename": "SyntaxError",
     "evalue": "invalid syntax. Perhaps you forgot a comma? (1241193106.py, line 31)",
     "output_type": "error",
     "traceback": [
      "\u001b[0;36m  Cell \u001b[0;32mIn[7], line 31\u001b[0;36m\u001b[0m\n\u001b[0;31m    text_color='#000000,#FFFF00'\u001b[0m\n\u001b[0m               ^\u001b[0m\n\u001b[0;31mSyntaxError\u001b[0m\u001b[0;31m:\u001b[0m invalid syntax. Perhaps you forgot a comma?\n"
     ]
    }
   ],
   "source": [
    "import os\n",
    "import random\n",
    "\n",
    "from glob import glob\n",
    "from tqdm import tqdm\n",
    "from trdg.generators import GeneratorFromStrings\n",
    "\n",
    "# File paths\n",
    "fonts_dir = \"/mnt/arc/levlevi/nba-positions-videos-dataset/florence_ft/data/fine-tunning-set/fonts\"\n",
    "dictionary_txt_fp = \"/mnt/arc/levlevi/nba-positions-videos-dataset/florence_ft/data/nba_game_times.txt\"\n",
    "dst_dir = \"/mnt/arc/levlevi/nba-positions-videos-dataset/florence_ft/data/fine-tunning-set/synth_data\"\n",
    "\n",
    "# Ensure the destination directory exists\n",
    "os.makedirs(dst_dir, exist_ok=True)\n",
    "\n",
    "# Create a generator with various augmentations\n",
    "generator = GeneratorFromStrings(\n",
    "    [string for string in open(dictionary_txt_fp, \"r\").readlines()],\n",
    "    blur=random.randint(0, 3),\n",
    "    random_blur=True,\n",
    "    fonts=glob(fonts_dir + \"/*.ttf\"),\n",
    "    background_type=0,  # Use image background\n",
    "    size=random.randint(32, 64),  # Random font size between 32 and 64\n",
    "    skewing_angle=random.randint(0, 5),  # Random skewing\n",
    "    random_skew=True,\n",
    "    distorsion_type=random.randint(0, 3),  # Random distortion type\n",
    "    distorsion_orientation=random.randint(0, 2),  # Random distortion orientation\n",
    "    is_handwritten=False,  # Set to True if you want handwritten-style text\n",
    "    width=200 + random.randint(-100, 100),  # Random width\n",
    "    alignment=1,  # Center alignment\n",
    "    text_color='#000000,#FFFFFF',\n",
    "    character_spacing=random.randint(0, 3),  # Random character spacing\n",
    "    margins=(5, 5, 5, 5),  # Add some margins\n",
    "    fit=True,  # Ensure text fits in the image\n",
    ")\n",
    "\n",
    "# Generate and save images\n",
    "for i, (img, lbl) in tqdm(enumerate(generator)):\n",
    "    # Create a filename for the image\n",
    "    filename = f\"game_clock_{i:04d}.jpg\"\n",
    "    filepath = os.path.join(dst_dir, filename)\n",
    "    # Save the image\n",
    "    img.save(filepath)\n",
    "    # Save the label (text) to a separate file\n",
    "    label_filename = f\"game_clock_{i:04d}.txt\"\n",
    "    label_filepath = os.path.join(dst_dir, label_filename)\n",
    "    with open(label_filepath, 'w') as f:\n",
    "        f.write(lbl)\n",
    "\n",
    "print(f\"Generated {i+1} game clock images in {dst_dir}\")"
   ]
  },
  {
   "cell_type": "code",
   "execution_count": 5,
   "metadata": {},
   "outputs": [],
   "source": [
    "from glob import glob\n",
    "from shutil import move\n",
    "import os\n",
    "\n",
    "src_dir = \"/mnt/arc/levlevi/nba-positions-videos-dataset/florence_ft/data/fine-tunning-set/fonts\"\n",
    "dst_dir = \"/mnt/arc/levlevi/nba-positions-videos-dataset/florence_ft/data/fine-tunning-set/fonts\"\n",
    "\n",
    "for fp in glob(src_dir + \"*/*/*/*.ttf\"):\n",
    "    dst_path = os.path.join(dst_dir, os.path.basename(fp))\n",
    "    move(fp, dst_path)"
   ]
  },
  {
   "cell_type": "code",
   "execution_count": null,
   "metadata": {},
   "outputs": [],
   "source": [
    "|"
   ]
  }
 ],
 "metadata": {
  "kernelspec": {
   "display_name": "hplr",
   "language": "python",
   "name": "python3"
  },
  "language_info": {
   "codemirror_mode": {
    "name": "ipython",
    "version": 3
   },
   "file_extension": ".py",
   "mimetype": "text/x-python",
   "name": "python",
   "nbconvert_exporter": "python",
   "pygments_lexer": "ipython3",
   "version": "3.11.9"
  }
 },
 "nbformat": 4,
 "nbformat_minor": 2
}
