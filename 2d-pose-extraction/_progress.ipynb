{
 "cells": [
  {
   "cell_type": "code",
   "execution_count": 2,
   "metadata": {},
   "outputs": [
    {
     "name": "stderr",
     "output_type": "stream",
     "text": [
      "  0%|          | 0/173647 [00:15<?, ?it/s]\n"
     ]
    }
   ],
   "source": [
    "import os\n",
    "from glob import glob\n",
    "from tqdm import tqdm\n",
    "\n",
    "src_dir = '/mnt/arc/levlevi/nba-positions-videos-dataset/nba-plus-statvu-dataset/filtered-clip-annotations/'\n",
    "dst_dir = '/mnt/arc/levlevi/nba-positions-videos-dataset/nba-plus-statvu-dataset/2d-poses-raw/'\n",
    "\n",
    "num_annotations = len(glob(os.path.join(src_dir, '*/*/*.json')))\n",
    "pbar = tqdm(total=num_annotations)\n",
    "\n",
    "dst_annotations = glob(os.path.join(dst_dir, '*/*/*.json'))\n",
    "num_dst_annotations = len(dst_annotations);\n",
    "last = 0\n",
    "\n",
    "while num_dst_annotations < num_annotations:\n",
    "    dst_annotations = glob(os.path.join(dst_dir, '*/*/*.json'))\n",
    "    num_dst_annotations = len(dst_annotations);\n",
    "    pbar.update(num_dst_annotations - last)\n",
    "    last = num_dst_annotations"
   ]
  },
  {
   "cell_type": "code",
   "execution_count": null,
   "metadata": {},
   "outputs": [],
   "source": [
    "import asyncio\n",
    "import random\n",
    "\n",
    "background_tasks = set()\n",
    "\n",
    "async def test_async():\n",
    "    i = 0\n",
    "    for _ in range(10000000):\n",
    "        i += random.random()\n",
    "    print(f\"i has a value of: {i}\")\n",
    "\n",
    "print(\"Task Started...\")\n",
    "task = asyncio.create_task(test_async())\n",
    "background_tasks.add(task)\n",
    "# To prevent keeping references to finished tasks forever,\n",
    "# make each task remove its own reference from the set after\n",
    "# completion:\n",
    "task.add_done_callback(background_tasks.discard)\n",
    "print(\"Interpreter has passed task line...\")\n",
    "    "
   ]
  },
  {
   "cell_type": "code",
   "execution_count": null,
   "metadata": {},
   "outputs": [],
   "source": []
  }
 ],
 "metadata": {
  "kernelspec": {
   "display_name": "2dpose",
   "language": "python",
   "name": "python3"
  },
  "language_info": {
   "codemirror_mode": {
    "name": "ipython",
    "version": 3
   },
   "file_extension": ".py",
   "mimetype": "text/x-python",
   "name": "python",
   "nbconvert_exporter": "python",
   "pygments_lexer": "ipython3",
   "version": "3.11.9"
  }
 },
 "nbformat": 4,
 "nbformat_minor": 2
}
