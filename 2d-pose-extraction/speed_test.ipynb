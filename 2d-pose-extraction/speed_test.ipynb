{
 "cells": [
  {
   "cell_type": "code",
   "execution_count": 1,
   "metadata": {},
   "outputs": [],
   "source": [
    "from glob import glob\n",
    "\n",
    "dir_fp = \"/mnt/arc/levlevi/nba-positions-videos-dataset/nba-plus-statvu-dataset/filtered-clip-annotations\"\n",
    "all_fps = glob(dir_fp + \"/*/*/*.json\")\n",
    "bbx_map = {}"
   ]
  },
  {
   "cell_type": "code",
   "execution_count": 4,
   "metadata": {},
   "outputs": [
    {
     "name": "stderr",
     "output_type": "stream",
     "text": [
      "  0%|          | 0/173647 [00:00<?, ?it/s]"
     ]
    }
   ],
   "source": [
    "import ujson as json\n",
    "from tqdm import tqdm\n",
    "from multiprocessing import Pool\n",
    "import numpy as np\n",
    "\n",
    "def process_file(fp):\n",
    "    with open(fp, 'rb') as f:\n",
    "        annotations = json.load(f)\n",
    "    frame_indices = []\n",
    "    bbx_indices = []\n",
    "    bbxes = []\n",
    "    for frame_idx, frame in enumerate(annotations[\"frames\"]):\n",
    "        n_bbxes = len(frame[\"bbox\"])\n",
    "        frame_indices.extend([frame_idx] * n_bbxes)\n",
    "        bbx_indices.extend(range(n_bbxes))\n",
    "        bbxes.extend(frame[\"bbox\"])\n",
    "    return frame_indices, bbx_indices, bbxes\n",
    "\n",
    "bbx_map = {}\n",
    "abs_idx = 0\n",
    "with Pool() as pool:\n",
    "    results = list(tqdm(pool.imap(process_file, all_fps), total=len(all_fps)))\n",
    "\n",
    "for frame_indices, bbx_indices, bbxes in results:\n",
    "    for frame_idx, bbx_idx, bbx in zip(frame_indices, bbx_indices, bbxes):\n",
    "        bbx_map[abs_idx] = (frame_idx, bbx_idx, bbx)\n",
    "        abs_idx += 1"
   ]
  },
  {
   "cell_type": "code",
   "execution_count": 3,
   "metadata": {},
   "outputs": [
    {
     "name": "stdout",
     "output_type": "stream",
     "text": [
      "Size of bbx_map: 0.00 MB\n",
      "Approximate size of bbx_map: 0.00 MB\n"
     ]
    }
   ],
   "source": [
    "import sys\n",
    "from pympler import asizeof\n",
    "\n",
    "def get_size(obj):\n",
    "    return asizeof.asizeof(obj)\n",
    "\n",
    "# Assuming bbx_map is your dictionary\n",
    "size_bytes = get_size(bbx_map)\n",
    "size_mb = size_bytes / (1024 * 1024)\n",
    "\n",
    "print(f\"Size of bbx_map: {size_mb:.2f} MB\")\n",
    "\n",
    "# Alternative method using sys.getsizeof (less accurate for complex objects)\n",
    "approx_size_bytes = sys.getsizeof(bbx_map)\n",
    "approx_size_mb = approx_size_bytes / (1024 * 1024)\n",
    "\n",
    "print(f\"Approximate size of bbx_map: {approx_size_mb:.2f} MB\")"
   ]
  }
 ],
 "metadata": {
  "kernelspec": {
   "display_name": "2dpose",
   "language": "python",
   "name": "python3"
  },
  "language_info": {
   "codemirror_mode": {
    "name": "ipython",
    "version": 3
   },
   "file_extension": ".py",
   "mimetype": "text/x-python",
   "name": "python",
   "nbconvert_exporter": "python",
   "pygments_lexer": "ipython3",
   "version": "3.11.9"
  }
 },
 "nbformat": 4,
 "nbformat_minor": 2
}
