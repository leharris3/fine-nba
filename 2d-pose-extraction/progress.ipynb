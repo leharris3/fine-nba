{
 "cells": [
  {
   "cell_type": "code",
   "execution_count": null,
   "metadata": {},
   "outputs": [],
   "source": [
    "import os\n",
    "from glob import glob\n",
    "\n",
    "src_dir = '/mnt/arc/levlevi/nba-positions-videos-dataset/nba-plus-statvu-dataset/filtered-clip-annotations'\n",
    "annotations = glob(os.path.join(src_dir, '*/*/*.json'))\n",
    "num_annotations = len(annotations);"
   ]
  },
  {
   "cell_type": "code",
   "execution_count": null,
   "metadata": {},
   "outputs": [],
   "source": [
    "from tqdm import tqdm\n",
    "\n",
    "pbar = tqdm(total=num_annotations)\n",
    "dst_dir = '/mnt/arc/levlevi/nba-positions-videos-dataset/nba-plus-statvu-dataset/2d-poses-raw/'\n",
    "dst_annotations = glob(os.path.join(dst_dir, '*/*/*.json'))\n",
    "num_dst_annotations = len(dst_annotations);\n",
    "last = 0\n",
    "\n",
    "while num_dst_annotations < num_annotations:\n",
    "    dst_annotations = glob(os.path.join(dst_dir, '*/*/*.json'))\n",
    "    num_dst_annotations = len(dst_annotations);\n",
    "    pbar.update(num_dst_annotations - last)\n",
    "    last = num_dst_annotations"
   ]
  },
  {
   "cell_type": "code",
   "execution_count": null,
   "metadata": {},
   "outputs": [],
   "source": []
  }
 ],
 "metadata": {
  "kernelspec": {
   "display_name": "2dpose",
   "language": "python",
   "name": "python3"
  },
  "language_info": {
   "codemirror_mode": {
    "name": "ipython",
    "version": 3
   },
   "file_extension": ".py",
   "mimetype": "text/x-python",
   "name": "python",
   "nbconvert_exporter": "python",
   "pygments_lexer": "ipython3",
   "version": "3.11.9"
  }
 },
 "nbformat": 4,
 "nbformat_minor": 2
}
