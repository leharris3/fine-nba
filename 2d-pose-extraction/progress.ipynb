{
 "cells": [
  {
   "cell_type": "code",
   "execution_count": 13,
   "metadata": {},
   "outputs": [],
   "source": [
    "import os\n",
    "from glob import glob\n",
    "\n",
    "src_dir = '/mnt/arc/levlevi/nba-positions-videos-dataset/nba-plus-statvu-dataset/filtered-clip-annotations'\n",
    "annotations = glob(os.path.join(src_dir, '*/*/*.json'))\n",
    "num_annotations = len(annotations);"
   ]
  },
  {
   "cell_type": "code",
   "execution_count": 14,
   "metadata": {},
   "outputs": [
    {
     "name": "stderr",
     "output_type": "stream",
     "text": [
      "  0%|          | 5/173647 [00:08<81:46:25,  1.70s/it]\n"
     ]
    }
   ],
   "source": [
    "from tqdm import tqdm\n",
    "\n",
    "pbar = tqdm(total=num_annotations)\n",
    "dst_dir = '/mnt/arc/levlevi/nba-positions-videos-dataset/nba-plus-statvu-dataset/2d-poses-raw/filtered-clips'\n",
    "dst_annotations = glob(os.path.join(dst_dir, '*/*/*.json'))\n",
    "\n",
    "last = 0\n",
    "while num_dst_annotations < num_annotations:\n",
    "    dst_annotations = glob(os.path.join(dst_dir, '*/*/*.json'))\n",
    "    num_dst_annotations = len(dst_annotations);\n",
    "    pbar.update(num_dst_annotations - last)\n",
    "    last = num_dst_annotations"
   ]
  },
  {
   "cell_type": "code",
   "execution_count": null,
   "metadata": {},
   "outputs": [],
   "source": []
  }
 ],
 "metadata": {
  "kernelspec": {
   "display_name": "2dpose",
   "language": "python",
   "name": "python3"
  },
  "language_info": {
   "codemirror_mode": {
    "name": "ipython",
    "version": 3
   },
   "file_extension": ".py",
   "mimetype": "text/x-python",
   "name": "python",
   "nbconvert_exporter": "python",
   "pygments_lexer": "ipython3",
   "version": "3.11.9"
  }
 },
 "nbformat": 4,
 "nbformat_minor": 2
}
